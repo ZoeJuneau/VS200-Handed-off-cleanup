{
 "cells": [
  {
   "cell_type": "code",
   "execution_count": 1,
   "id": "8715380a-1d51-4a49-9c56-f9979c5dd050",
   "metadata": {},
   "outputs": [
    {
     "name": "stdout",
     "output_type": "stream",
     "text": [
      "G:\\Production\\HMBA\n"
     ]
    }
   ],
   "source": [
    "cd G:\\Production\\HMBA"
   ]
  },
  {
   "cell_type": "code",
   "execution_count": 2,
   "id": "eefe53d6-4690-44d1-8d86-89e72eff7c09",
   "metadata": {},
   "outputs": [],
   "source": [
    "import os, sys\n",
    "import glob as glob\n",
    "from pathlib import Path\n",
    "import requests\n",
    "import shutil"
   ]
  },
  {
   "cell_type": "code",
   "execution_count": 3,
   "id": "efe44889-49fc-4395-9160-16bbf85349a8",
   "metadata": {
    "scrolled": true
   },
   "outputs": [
    {
     "data": {
      "text/plain": [
       "['2407182324',\n",
       " '2407182414',\n",
       " '2408060114',\n",
       " '2408301704',\n",
       " '2408301814',\n",
       " '2409301504']"
      ]
     },
     "execution_count": 3,
     "metadata": {},
     "output_type": "execute_result"
    }
   ],
   "source": [
    "#make list of all of the .vsi files (images) in the handed off directory (the only directory whose images we check for deletability\n",
    "paths = glob.glob(\"Handed off/*.vsi\")\n",
    "\n",
    "#for each path string, parse the 10 digit barcode from the string and add it to the barcode list\n",
    "barcodes_to_check = [path[11:21] for path in paths]\n",
    "barcodes_to_check"
   ]
  },
  {
   "cell_type": "code",
   "execution_count": 4,
   "id": "d79da13e-e6a1-4e05-a897-ca3ba20ca628",
   "metadata": {},
   "outputs": [
    {
     "name": "stdout",
     "output_type": "stream",
     "text": [
      "2407182324's workflow state is qc\n",
      "[]\n",
      "2407182414's workflow state is qc\n",
      "[]\n",
      "2408060114's workflow state is qc\n",
      "[]\n",
      "2408301704's workflow state is qc\n",
      "[]\n",
      "2408301814's workflow state is qc\n",
      "[]\n",
      "2409301504's workflow state is qc\n",
      "[]\n",
      "{}\n"
     ]
    }
   ],
   "source": [
    "#make empty list of slides that haven't handed off properly (for later reporting on handoff issues)\n",
    "error_barcodes_and_statuses = {}\n",
    "\n",
    "#for every barcode found in the 'handed off' directory:\n",
    "for barcode in barcodes_to_check:\n",
    "    #this 'params' syntax isn't super familiar to me, but the URL I based this on ended in '?barcode=2408154435' so I deleted that before\n",
    "    #passing it as the positional argument and... it worked...\n",
    "    request = requests.get('https://lims2.corp.alleninstitute.org/slides/info/details.json', params={\"barcode\": barcode})\n",
    "    \n",
    "    #if the LIMS request yields an ok code\n",
    "    if request.status_code == 200:\n",
    "        \n",
    "        #assign the json file to this variable\n",
    "        lims_info = request.json()\n",
    "        \n",
    "        #from that json (functions like a dictionary?) assign the value from the workflow_state key to this variable\n",
    "        workflow_state = lims_info[\"workflow_state\"]\n",
    "        \n",
    "        #print that state\n",
    "        print(f\"{barcode}'s workflow state is {workflow_state}\")\n",
    "\n",
    "        #if the workflow state is passed or qc, delete the vsi. delete the images folder, and all of its contents.\n",
    "        if workflow_state == \"passed\" or workflow_state == \"qc\":\n",
    "            try:    \n",
    "                shutil.rmtree(f\"handed off/_{barcode}_\")\n",
    "                os.remove(f\"handed off/{barcode}.vsi\")\n",
    "                \n",
    "            except Exception as e:\n",
    "                print(e)\n",
    "            print(glob.glob(f\"handed off/*{barcode}*\"))\n",
    "            \n",
    "        #if it wasn't in state 'passed' or 'qc', add the barcode and state as a key: value pair in the dictionary\n",
    "        #this dictionary gets printed after the loop concludes\n",
    "        else:\n",
    "            error_barcodes_and_statuses[f'{barcode}'] = workflow_state\n",
    "    else:\n",
    "        print(print(f\"{barcode}'s get request failed\"))\n",
    "        error_barcodes_and_statuses[f'{barcode}'] = 'get request failed'\n",
    "\n",
    "print(error_barcodes_and_statuses)"
   ]
  },
  {
   "cell_type": "code",
   "execution_count": null,
   "id": "8cf0e9c6-2feb-4afa-9530-40eb3a1c6ebe",
   "metadata": {},
   "outputs": [],
   "source": [
    "# edits to script: be able to parse pending slides based on whether or not they have scans in LIMS. pending barcodes with scanners\n",
    "# eg VS200FLUOR, VS200BRIGHT, should be ready to delete because the image was already uploaded"
   ]
  },
  {
   "cell_type": "code",
   "execution_count": 6,
   "id": "46b6d79e-4e47-438a-a704-ad204e5e36a4",
   "metadata": {},
   "outputs": [],
   "source": [
    "def lims_check(barcodes_to_check):\n",
    "    \"\"\"checks LIMS status via GET request, returns dictionary of barcodes and statuses as keys and values\"\"\"\n",
    "    barcode_statuses = {}\n",
    "    barcodes_to_check = [path[11:21] for path in paths]\n",
    "    for barcode in barcodes_to_check:\n",
    "        #this 'params' syntax isn't super familiar to me, but the URL I based this on ended in '?barcode=2408154435' so I deleted that and... it worked...\n",
    "        request = requests.get('https://lims2.corp.alleninstitute.org/slides/info/details.json', params={\"barcode\": barcode})\n",
    "        if request.status_code == 200:\n",
    "            lims_info = request.json()\n",
    "            workflow_state = lims_info[\"workflow_state\"]\n",
    "            barcode_statuses[barcode] = workflow_state\n",
    "    return barcode_statuses"
   ]
  },
  {
   "cell_type": "code",
   "execution_count": 7,
   "id": "ffafee83-714c-409c-b330-222e5417da6d",
   "metadata": {},
   "outputs": [
    {
     "data": {
      "text/plain": [
       "{'0400239866': 'passed',\n",
       " '0400269804': 'passed',\n",
       " '0400270747': 'passed',\n",
       " '0400270931': 'passed',\n",
       " '0400273584': 'passed',\n",
       " '0400273952': 'passed',\n",
       " '0400275319': 'passed',\n",
       " '0400275823': 'passed',\n",
       " '0500404856': 'passed',\n",
       " '0500405114': 'passed',\n",
       " '0500406541': 'passed',\n",
       " '0500407946': 'passed',\n",
       " '0500410869': 'passed',\n",
       " '0500411809': 'passed',\n",
       " '0500411977': 'passed',\n",
       " '0500415520': 'passed',\n",
       " '0500416106': 'passed',\n",
       " '0500419327': 'passed',\n",
       " '0500419853': 'passed',\n",
       " '0500420464': 'passed',\n",
       " '0500420498': 'passed',\n",
       " '0535187165': 'passed',\n",
       " '0535189859': 'passed',\n",
       " '2503101001': 'passed',\n",
       " '2503101002': 'passed',\n",
       " '2503101003': 'pending',\n",
       " '2503101004': 'passed',\n",
       " '2503101005': 'passed',\n",
       " '2503101006': 'passed',\n",
       " '2503101007': 'passed',\n",
       " '2503101008': 'passed',\n",
       " '2503101009': 'passed',\n",
       " '2503101010': 'passed',\n",
       " '2503101011': 'passed',\n",
       " '2503101012': 'passed',\n",
       " '2503101013': 'pending',\n",
       " '2503101014': 'pending',\n",
       " '2503101015': 'pending',\n",
       " '2503101016': 'passed',\n",
       " '2503101017': 'pending',\n",
       " '2503101018': 'passed',\n",
       " '2503101019': 'passed',\n",
       " '2503101020': 'passed',\n",
       " '2503101021': 'passed',\n",
       " '2503101022': 'passed',\n",
       " '2503101023': 'passed',\n",
       " '2503101024': 'passed',\n",
       " '2503101025': 'passed',\n",
       " '2503101026': 'passed',\n",
       " '2503101027': 'passed',\n",
       " '2503101028': 'passed',\n",
       " '2503101029': 'pending',\n",
       " '2503101030': 'passed',\n",
       " '2503101031': 'passed'}"
      ]
     },
     "execution_count": 7,
     "metadata": {},
     "output_type": "execute_result"
    }
   ],
   "source": [
    "lims_check(paths)"
   ]
  },
  {
   "cell_type": "code",
   "execution_count": 9,
   "id": "cfe43006-fcc9-40bb-9dc9-c36597324da0",
   "metadata": {},
   "outputs": [
    {
     "data": {
      "text/plain": [
       "WindowsPath('C:/Users/ics')"
      ]
     },
     "execution_count": 9,
     "metadata": {},
     "output_type": "execute_result"
    }
   ],
   "source": [
    "p =Path.home()\n",
    "p"
   ]
  },
  {
   "cell_type": "code",
   "execution_count": 10,
   "id": "b968b4ef-fa6d-45bc-9cae-b253256bbcc3",
   "metadata": {},
   "outputs": [
    {
     "data": {
      "text/plain": [
       "WindowsPath('C:/Users/ics/herpderp')"
      ]
     },
     "execution_count": 10,
     "metadata": {},
     "output_type": "execute_result"
    }
   ],
   "source": [
    "p.joinpath(\"herpderp\")"
   ]
  },
  {
   "cell_type": "code",
   "execution_count": 16,
   "id": "6764e02d-d692-4661-b9bd-8dbdf4569f14",
   "metadata": {},
   "outputs": [],
   "source": [
    "def files_and_folders_statuses(directory):\n",
    "    \"\"\"checks LIMS status via GET request, returns dictionary of barcodes and statuses as keys and values\"\"\"\n",
    "    barcode_statuses = {}\n",
    "    paths = directory.glob(\"*.vsi\")\n",
    "    #barcodes_to_check = [path.stem for path in paths]\n",
    "    for filename in paths:\n",
    "        barcode = filename.stem\n",
    "        #this 'params' syntax isn't super familiar to me, but the URL I based this on ended in '?barcode=2408154435' so I deleted that and... it worked...\n",
    "        request = requests.get('https://lims2.corp.alleninstitute.org/slides/info/details.json', params={\"barcode\": barcode})\n",
    "        if request.status_code == 200:\n",
    "            lims_info = request.json()\n",
    "            workflow_state = lims_info[\"workflow_state\"]\n",
    "            barcode_statuses[filename] = workflow_state\n",
    "            foldername = filename.parent.joinpath(f\"_{barcode}_\")\n",
    "            if foldername.exists():\n",
    "                barcode_statuses[foldername] = workflow_state\n",
    "                \n",
    "    return barcode_statuses"
   ]
  },
  {
   "cell_type": "code",
   "execution_count": 19,
   "id": "44b15728-a5a5-4a0d-a9a6-a16f01d1cb2b",
   "metadata": {},
   "outputs": [
    {
     "data": {
      "application/vnd.jupyter.widget-view+json": {
       "model_id": "9a8f2988fa4e426bbed2d8dd7eafd7bb",
       "version_major": 2,
       "version_minor": 0
      },
      "text/plain": [
       "0it [00:00, ?it/s]"
      ]
     },
     "metadata": {},
     "output_type": "display_data"
    }
   ],
   "source": [
    "status_dict = files_and_folders_statuses(Path(\"Handed off\"))"
   ]
  },
  {
   "cell_type": "code",
   "execution_count": 27,
   "id": "eb72fec3-005b-4115-9123-c65bf9d98050",
   "metadata": {},
   "outputs": [],
   "source": [
    "def delete_or_not(dictionary, dryrun=True):\n",
    "    \"\"\"deletes a item or appends it to a dictionary of non-passed barcodes\"\"\"\n",
    "    error_barcodes_and_statuses = {}\n",
    "    for barcode, workflow_state in dictionary.items():\n",
    "        if workflow_state == 'passed':\n",
    "            if dryrun:\n",
    "                print(glob.glob(f\"handed off/*{barcode}*\"))\n",
    "            else:\n",
    "                 try:    \n",
    "                    shutil.rmtree(f\"handed off/_{barcode}_\")\n",
    "                    os.remove(f\"handed off/{barcode}.vsi\")\n",
    "                 except Exception as e:\n",
    "                    print(e)\n",
    "                \n",
    "        else:\n",
    "            error_barcodes_and_statuses[f'{barcode}'] = workflow_state\n",
    "    return(error_barcodes_and_statuses)\n",
    "        "
   ]
  },
  {
   "cell_type": "code",
   "execution_count": 29,
   "id": "4f35fd7a-7806-43e9-a420-68c253a19332",
   "metadata": {},
   "outputs": [
    {
     "name": "stdout",
     "output_type": "stream",
     "text": [
      "[WinError 3] The system cannot find the path specified: 'handed off/_Handed off\\\\0400239866.vsi_'\n",
      "[WinError 3] The system cannot find the path specified: 'handed off/_Handed off\\\\_0400239866__'\n",
      "[WinError 3] The system cannot find the path specified: 'handed off/_Handed off\\\\0400269804.vsi_'\n",
      "[WinError 3] The system cannot find the path specified: 'handed off/_Handed off\\\\_0400269804__'\n",
      "[WinError 3] The system cannot find the path specified: 'handed off/_Handed off\\\\0400270747.vsi_'\n",
      "[WinError 3] The system cannot find the path specified: 'handed off/_Handed off\\\\_0400270747__'\n",
      "[WinError 3] The system cannot find the path specified: 'handed off/_Handed off\\\\0400270931.vsi_'\n",
      "[WinError 3] The system cannot find the path specified: 'handed off/_Handed off\\\\_0400270931__'\n",
      "[WinError 3] The system cannot find the path specified: 'handed off/_Handed off\\\\0400273584.vsi_'\n",
      "[WinError 3] The system cannot find the path specified: 'handed off/_Handed off\\\\_0400273584__'\n",
      "[WinError 3] The system cannot find the path specified: 'handed off/_Handed off\\\\0400273952.vsi_'\n",
      "[WinError 3] The system cannot find the path specified: 'handed off/_Handed off\\\\_0400273952__'\n",
      "[WinError 3] The system cannot find the path specified: 'handed off/_Handed off\\\\0400275319.vsi_'\n",
      "[WinError 3] The system cannot find the path specified: 'handed off/_Handed off\\\\_0400275319__'\n",
      "[WinError 3] The system cannot find the path specified: 'handed off/_Handed off\\\\0400275823.vsi_'\n",
      "[WinError 3] The system cannot find the path specified: 'handed off/_Handed off\\\\_0400275823__'\n",
      "[WinError 3] The system cannot find the path specified: 'handed off/_Handed off\\\\0500404856.vsi_'\n",
      "[WinError 3] The system cannot find the path specified: 'handed off/_Handed off\\\\_0500404856__'\n",
      "[WinError 3] The system cannot find the path specified: 'handed off/_Handed off\\\\0500405114.vsi_'\n",
      "[WinError 3] The system cannot find the path specified: 'handed off/_Handed off\\\\_0500405114__'\n",
      "[WinError 3] The system cannot find the path specified: 'handed off/_Handed off\\\\0500406541.vsi_'\n",
      "[WinError 3] The system cannot find the path specified: 'handed off/_Handed off\\\\_0500406541__'\n",
      "[WinError 3] The system cannot find the path specified: 'handed off/_Handed off\\\\0500407946.vsi_'\n",
      "[WinError 3] The system cannot find the path specified: 'handed off/_Handed off\\\\_0500407946__'\n",
      "[WinError 3] The system cannot find the path specified: 'handed off/_Handed off\\\\0500410869.vsi_'\n",
      "[WinError 3] The system cannot find the path specified: 'handed off/_Handed off\\\\_0500410869__'\n",
      "[WinError 3] The system cannot find the path specified: 'handed off/_Handed off\\\\0500411809.vsi_'\n",
      "[WinError 3] The system cannot find the path specified: 'handed off/_Handed off\\\\_0500411809__'\n",
      "[WinError 3] The system cannot find the path specified: 'handed off/_Handed off\\\\0500411977.vsi_'\n",
      "[WinError 3] The system cannot find the path specified: 'handed off/_Handed off\\\\_0500411977__'\n",
      "[WinError 3] The system cannot find the path specified: 'handed off/_Handed off\\\\0500415520.vsi_'\n",
      "[WinError 3] The system cannot find the path specified: 'handed off/_Handed off\\\\_0500415520__'\n",
      "[WinError 3] The system cannot find the path specified: 'handed off/_Handed off\\\\0500416106.vsi_'\n",
      "[WinError 3] The system cannot find the path specified: 'handed off/_Handed off\\\\_0500416106__'\n",
      "[WinError 3] The system cannot find the path specified: 'handed off/_Handed off\\\\0500419327.vsi_'\n",
      "[WinError 3] The system cannot find the path specified: 'handed off/_Handed off\\\\_0500419327__'\n",
      "[WinError 3] The system cannot find the path specified: 'handed off/_Handed off\\\\0500419853.vsi_'\n",
      "[WinError 3] The system cannot find the path specified: 'handed off/_Handed off\\\\_0500419853__'\n",
      "[WinError 3] The system cannot find the path specified: 'handed off/_Handed off\\\\0500420464.vsi_'\n",
      "[WinError 3] The system cannot find the path specified: 'handed off/_Handed off\\\\_0500420464__'\n",
      "[WinError 3] The system cannot find the path specified: 'handed off/_Handed off\\\\0500420498.vsi_'\n",
      "[WinError 3] The system cannot find the path specified: 'handed off/_Handed off\\\\_0500420498__'\n",
      "[WinError 3] The system cannot find the path specified: 'handed off/_Handed off\\\\0535187165.vsi_'\n",
      "[WinError 3] The system cannot find the path specified: 'handed off/_Handed off\\\\_0535187165__'\n",
      "[WinError 3] The system cannot find the path specified: 'handed off/_Handed off\\\\0535189859.vsi_'\n",
      "[WinError 3] The system cannot find the path specified: 'handed off/_Handed off\\\\_0535189859__'\n",
      "[WinError 3] The system cannot find the path specified: 'handed off/_Handed off\\\\2503101001.vsi_'\n",
      "[WinError 3] The system cannot find the path specified: 'handed off/_Handed off\\\\_2503101001__'\n",
      "[WinError 3] The system cannot find the path specified: 'handed off/_Handed off\\\\2503101002.vsi_'\n",
      "[WinError 3] The system cannot find the path specified: 'handed off/_Handed off\\\\_2503101002__'\n",
      "[WinError 3] The system cannot find the path specified: 'handed off/_Handed off\\\\2503101004.vsi_'\n",
      "[WinError 3] The system cannot find the path specified: 'handed off/_Handed off\\\\_2503101004__'\n",
      "[WinError 3] The system cannot find the path specified: 'handed off/_Handed off\\\\2503101005.vsi_'\n",
      "[WinError 3] The system cannot find the path specified: 'handed off/_Handed off\\\\_2503101005__'\n",
      "[WinError 3] The system cannot find the path specified: 'handed off/_Handed off\\\\2503101006.vsi_'\n",
      "[WinError 3] The system cannot find the path specified: 'handed off/_Handed off\\\\_2503101006__'\n",
      "[WinError 3] The system cannot find the path specified: 'handed off/_Handed off\\\\2503101007.vsi_'\n",
      "[WinError 3] The system cannot find the path specified: 'handed off/_Handed off\\\\_2503101007__'\n",
      "[WinError 3] The system cannot find the path specified: 'handed off/_Handed off\\\\2503101008.vsi_'\n",
      "[WinError 3] The system cannot find the path specified: 'handed off/_Handed off\\\\_2503101008__'\n",
      "[WinError 3] The system cannot find the path specified: 'handed off/_Handed off\\\\2503101009.vsi_'\n",
      "[WinError 3] The system cannot find the path specified: 'handed off/_Handed off\\\\_2503101009__'\n",
      "[WinError 3] The system cannot find the path specified: 'handed off/_Handed off\\\\2503101010.vsi_'\n",
      "[WinError 3] The system cannot find the path specified: 'handed off/_Handed off\\\\_2503101010__'\n",
      "[WinError 3] The system cannot find the path specified: 'handed off/_Handed off\\\\2503101011.vsi_'\n",
      "[WinError 3] The system cannot find the path specified: 'handed off/_Handed off\\\\_2503101011__'\n",
      "[WinError 3] The system cannot find the path specified: 'handed off/_Handed off\\\\2503101012.vsi_'\n",
      "[WinError 3] The system cannot find the path specified: 'handed off/_Handed off\\\\_2503101012__'\n",
      "[WinError 3] The system cannot find the path specified: 'handed off/_Handed off\\\\2503101016.vsi_'\n",
      "[WinError 3] The system cannot find the path specified: 'handed off/_Handed off\\\\_2503101016__'\n",
      "[WinError 3] The system cannot find the path specified: 'handed off/_Handed off\\\\2503101018.vsi_'\n",
      "[WinError 3] The system cannot find the path specified: 'handed off/_Handed off\\\\_2503101018__'\n",
      "[WinError 3] The system cannot find the path specified: 'handed off/_Handed off\\\\2503101019.vsi_'\n",
      "[WinError 3] The system cannot find the path specified: 'handed off/_Handed off\\\\_2503101019__'\n",
      "[WinError 3] The system cannot find the path specified: 'handed off/_Handed off\\\\2503101020.vsi_'\n",
      "[WinError 3] The system cannot find the path specified: 'handed off/_Handed off\\\\_2503101020__'\n",
      "[WinError 3] The system cannot find the path specified: 'handed off/_Handed off\\\\2503101021.vsi_'\n",
      "[WinError 3] The system cannot find the path specified: 'handed off/_Handed off\\\\_2503101021__'\n",
      "[WinError 3] The system cannot find the path specified: 'handed off/_Handed off\\\\2503101022.vsi_'\n",
      "[WinError 3] The system cannot find the path specified: 'handed off/_Handed off\\\\_2503101022__'\n",
      "[WinError 3] The system cannot find the path specified: 'handed off/_Handed off\\\\2503101023.vsi_'\n",
      "[WinError 3] The system cannot find the path specified: 'handed off/_Handed off\\\\_2503101023__'\n",
      "[WinError 3] The system cannot find the path specified: 'handed off/_Handed off\\\\2503101024.vsi_'\n",
      "[WinError 3] The system cannot find the path specified: 'handed off/_Handed off\\\\_2503101024__'\n",
      "[WinError 3] The system cannot find the path specified: 'handed off/_Handed off\\\\2503101025.vsi_'\n",
      "[WinError 3] The system cannot find the path specified: 'handed off/_Handed off\\\\_2503101025__'\n",
      "[WinError 3] The system cannot find the path specified: 'handed off/_Handed off\\\\2503101026.vsi_'\n",
      "[WinError 3] The system cannot find the path specified: 'handed off/_Handed off\\\\_2503101026__'\n",
      "[WinError 3] The system cannot find the path specified: 'handed off/_Handed off\\\\2503101027.vsi_'\n",
      "[WinError 3] The system cannot find the path specified: 'handed off/_Handed off\\\\_2503101027__'\n",
      "[WinError 3] The system cannot find the path specified: 'handed off/_Handed off\\\\2503101028.vsi_'\n",
      "[WinError 3] The system cannot find the path specified: 'handed off/_Handed off\\\\_2503101028__'\n",
      "[WinError 3] The system cannot find the path specified: 'handed off/_Handed off\\\\2503101030.vsi_'\n",
      "[WinError 3] The system cannot find the path specified: 'handed off/_Handed off\\\\_2503101030__'\n",
      "[WinError 3] The system cannot find the path specified: 'handed off/_Handed off\\\\2503101031.vsi_'\n",
      "[WinError 3] The system cannot find the path specified: 'handed off/_Handed off\\\\_2503101031__'\n"
     ]
    },
    {
     "data": {
      "text/plain": [
       "{'Handed off\\\\2503101003.vsi': 'pending',\n",
       " 'Handed off\\\\_2503101003_': 'pending',\n",
       " 'Handed off\\\\2503101013.vsi': 'pending',\n",
       " 'Handed off\\\\_2503101013_': 'pending',\n",
       " 'Handed off\\\\2503101014.vsi': 'pending',\n",
       " 'Handed off\\\\_2503101014_': 'pending',\n",
       " 'Handed off\\\\2503101015.vsi': 'pending',\n",
       " 'Handed off\\\\_2503101015_': 'pending',\n",
       " 'Handed off\\\\2503101017.vsi': 'pending',\n",
       " 'Handed off\\\\_2503101017_': 'pending',\n",
       " 'Handed off\\\\2503101029.vsi': 'pending',\n",
       " 'Handed off\\\\_2503101029_': 'pending'}"
      ]
     },
     "execution_count": 29,
     "metadata": {},
     "output_type": "execute_result"
    }
   ],
   "source": [
    "delete_or_not(status_dict, dryrun=False)"
   ]
  },
  {
   "cell_type": "code",
   "execution_count": null,
   "id": "2e7f125d-d7b8-4b84-a091-38a23d99d393",
   "metadata": {},
   "outputs": [],
   "source": []
  }
 ],
 "metadata": {
  "kernelspec": {
   "display_name": "Python 3 (ipykernel)",
   "language": "python",
   "name": "python3"
  },
  "language_info": {
   "codemirror_mode": {
    "name": "ipython",
    "version": 3
   },
   "file_extension": ".py",
   "mimetype": "text/x-python",
   "name": "python",
   "nbconvert_exporter": "python",
   "pygments_lexer": "ipython3",
   "version": "3.11.7"
  }
 },
 "nbformat": 4,
 "nbformat_minor": 5
}
